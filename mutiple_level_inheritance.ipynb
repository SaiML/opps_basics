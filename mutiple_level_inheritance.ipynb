{
 "cells": [
  {
   "cell_type": "code",
   "execution_count": 31,
   "id": "83b92acc",
   "metadata": {},
   "outputs": [],
   "source": [
    "# in heritance - mutiple level"
   ]
  },
  {
   "cell_type": "code",
   "execution_count": 79,
   "id": "604de4e0",
   "metadata": {},
   "outputs": [],
   "source": [
    "class A:\n",
    "    def boys(self):\n",
    "        print(\"all boys are presents\")\n",
    "        "
   ]
  },
  {
   "cell_type": "code",
   "execution_count": 80,
   "id": "46018de3",
   "metadata": {},
   "outputs": [],
   "source": [
    "class B:\n",
    "    def girls(self):\n",
    "        print(\"all girls are present\")"
   ]
  },
  {
   "cell_type": "code",
   "execution_count": 81,
   "id": "7f9ab8aa",
   "metadata": {},
   "outputs": [],
   "source": [
    "class C(A,B):\n",
    "    def attend(self):\n",
    "        print(\"all are present\")"
   ]
  },
  {
   "cell_type": "code",
   "execution_count": 82,
   "id": "f75d552d",
   "metadata": {},
   "outputs": [
    {
     "name": "stdout",
     "output_type": "stream",
     "text": [
      "all boys are presents\n",
      "all girls are present\n",
      "all are present\n"
     ]
    }
   ],
   "source": [
    "z= C()\n",
    "z.boys()\n",
    "z.girls()\n",
    "z.attend()"
   ]
  },
  {
   "cell_type": "code",
   "execution_count": 42,
   "id": "10905206",
   "metadata": {},
   "outputs": [],
   "source": [
    "# in heritance - mutiPLE level- with polymorphism"
   ]
  },
  {
   "cell_type": "code",
   "execution_count": 43,
   "id": "a90e341e",
   "metadata": {},
   "outputs": [],
   "source": [
    "class A:\n",
    "    def boys(self):\n",
    "        print(\"all boys are presents\")\n",
    "        "
   ]
  },
  {
   "cell_type": "code",
   "execution_count": 44,
   "id": "73f2aa48",
   "metadata": {},
   "outputs": [],
   "source": [
    "class B:\n",
    "    def boys(self):\n",
    "        print(\"all girls are present\")"
   ]
  },
  {
   "cell_type": "code",
   "execution_count": 83,
   "id": "e25cb790",
   "metadata": {},
   "outputs": [],
   "source": [
    "class C(A,B):\n",
    "    def attend(self):\n",
    "        print(\"all are present\")"
   ]
  },
  {
   "cell_type": "code",
   "execution_count": 84,
   "id": "57df770e",
   "metadata": {},
   "outputs": [
    {
     "name": "stdout",
     "output_type": "stream",
     "text": [
      "all boys are presents\n",
      "all are present\n"
     ]
    }
   ],
   "source": [
    "z= C()\n",
    "z.boys()\n",
    "#z.girls()\n",
    "z.attend()"
   ]
  },
  {
   "cell_type": "code",
   "execution_count": 85,
   "id": "61fcfb42",
   "metadata": {},
   "outputs": [],
   "source": [
    "# in heritance - mutiple level- with constructor"
   ]
  },
  {
   "cell_type": "code",
   "execution_count": 86,
   "id": "76924e90",
   "metadata": {},
   "outputs": [],
   "source": [
    "class A:\n",
    "    \n",
    "    def __init__(self):\n",
    "        print(\"a in init\" )\n",
    "        \n",
    "    def boys(self):\n",
    "        print(\"all boys are presents\")\n",
    "        "
   ]
  },
  {
   "cell_type": "code",
   "execution_count": 87,
   "id": "20e1954e",
   "metadata": {},
   "outputs": [],
   "source": [
    "class B:\n",
    "    def boys(self):\n",
    "        print(\"all girls are present\")"
   ]
  },
  {
   "cell_type": "code",
   "execution_count": 88,
   "id": "039cac3c",
   "metadata": {},
   "outputs": [],
   "source": [
    "class C(A,B):\n",
    "    def attend(self):\n",
    "        print(\"all are present\")"
   ]
  },
  {
   "cell_type": "code",
   "execution_count": 89,
   "id": "702ce26c",
   "metadata": {},
   "outputs": [
    {
     "name": "stdout",
     "output_type": "stream",
     "text": [
      "a in init\n"
     ]
    }
   ],
   "source": [
    "z=C()"
   ]
  },
  {
   "cell_type": "code",
   "execution_count": null,
   "id": "747f4992",
   "metadata": {},
   "outputs": [],
   "source": [
    "# second case"
   ]
  },
  {
   "cell_type": "code",
   "execution_count": 90,
   "id": "f603490f",
   "metadata": {},
   "outputs": [],
   "source": [
    "class A:\n",
    "    \n",
    "    def __init__(self):\n",
    "        print(\"a in init\" )\n",
    "        \n",
    "    def boys(self):\n",
    "        print(\"all boys are presents\")\n",
    "        "
   ]
  },
  {
   "cell_type": "code",
   "execution_count": 91,
   "id": "1afe13c6",
   "metadata": {},
   "outputs": [],
   "source": [
    "class B:\n",
    "    def __init__(self):\n",
    "        print(\"b in init\" )\n",
    "        \n",
    "    def boys(self):\n",
    "        print(\"all girls are present\")"
   ]
  },
  {
   "cell_type": "code",
   "execution_count": 92,
   "id": "250bd3b6",
   "metadata": {},
   "outputs": [],
   "source": [
    "class C(A,B):\n",
    "    def attend(self):\n",
    "        print(\"all are present\")"
   ]
  },
  {
   "cell_type": "code",
   "execution_count": 93,
   "id": "2f68274c",
   "metadata": {},
   "outputs": [
    {
     "name": "stdout",
     "output_type": "stream",
     "text": [
      "a in init\n"
     ]
    }
   ],
   "source": [
    "z=C()"
   ]
  },
  {
   "cell_type": "code",
   "execution_count": 60,
   "id": "5530f2e5",
   "metadata": {},
   "outputs": [],
   "source": [
    "# third case"
   ]
  },
  {
   "cell_type": "code",
   "execution_count": 94,
   "id": "8ed4be8b",
   "metadata": {},
   "outputs": [],
   "source": [
    "class A:\n",
    "    \n",
    "    def __init__(self):\n",
    "        print(\"a in init\" )\n",
    "        \n",
    "    def boys(self):\n",
    "        print(\"all boys are presents\")\n",
    "        "
   ]
  },
  {
   "cell_type": "code",
   "execution_count": 95,
   "id": "2f5afc18",
   "metadata": {},
   "outputs": [],
   "source": [
    "class B:\n",
    "    def __init__(self):\n",
    "        print(\"b in init\" )\n",
    "        \n",
    "    def boys(self):\n",
    "        print(\"all girls are present\")"
   ]
  },
  {
   "cell_type": "code",
   "execution_count": 96,
   "id": "04d6765c",
   "metadata": {},
   "outputs": [],
   "source": [
    "class C(A,B):\n",
    "    def __init__(self):\n",
    "        print(\"c in init\" )\n",
    "        \n",
    "    def attend(self):\n",
    "        print(\"all are present\")"
   ]
  },
  {
   "cell_type": "code",
   "execution_count": 97,
   "id": "8bc5397f",
   "metadata": {},
   "outputs": [
    {
     "name": "stdout",
     "output_type": "stream",
     "text": [
      "c in init\n"
     ]
    }
   ],
   "source": [
    "z=C()"
   ]
  },
  {
   "cell_type": "code",
   "execution_count": null,
   "id": "b7a11969",
   "metadata": {},
   "outputs": [],
   "source": [
    "# multiple inheritance - super() funtions to call inits of super class"
   ]
  },
  {
   "cell_type": "code",
   "execution_count": 105,
   "id": "c2db9d45",
   "metadata": {},
   "outputs": [],
   "source": [
    "class A:\n",
    "    \n",
    "    def __init__(self):\n",
    "        print(\"a in init\" )\n",
    "        \n",
    "    def boys(self):\n",
    "        print(\"all boys are presents\")"
   ]
  },
  {
   "cell_type": "code",
   "execution_count": 106,
   "id": "7d35ce49",
   "metadata": {},
   "outputs": [],
   "source": [
    "class B:\n",
    "    def __init__(self):\n",
    "        print(\"b in init\" )\n",
    "        \n",
    "    def girls(self):\n",
    "        print(\"all girls are present\")"
   ]
  },
  {
   "cell_type": "code",
   "execution_count": 109,
   "id": "5fff7737",
   "metadata": {},
   "outputs": [],
   "source": [
    "class C(A,B):\n",
    "    def __init__(self):\n",
    "        super().__init__()\n",
    "        print(\"c in init\" )\n",
    "        \n",
    "    def attend(self):\n",
    "        print(\"all are present\")\n",
    "        super().boys()\n",
    "        "
   ]
  },
  {
   "cell_type": "code",
   "execution_count": 110,
   "id": "5175c069",
   "metadata": {},
   "outputs": [
    {
     "name": "stdout",
     "output_type": "stream",
     "text": [
      "a in init\n",
      "c in init\n"
     ]
    }
   ],
   "source": [
    "z=C()"
   ]
  },
  {
   "cell_type": "code",
   "execution_count": 111,
   "id": "c470f050",
   "metadata": {},
   "outputs": [
    {
     "name": "stdout",
     "output_type": "stream",
     "text": [
      "all are present\n",
      "all boys are presents\n"
     ]
    }
   ],
   "source": [
    "z.attend()"
   ]
  },
  {
   "cell_type": "code",
   "execution_count": null,
   "id": "197efe8e",
   "metadata": {},
   "outputs": [],
   "source": []
  }
 ],
 "metadata": {
  "kernelspec": {
   "display_name": "Python 3",
   "language": "python",
   "name": "python3"
  },
  "language_info": {
   "codemirror_mode": {
    "name": "ipython",
    "version": 3
   },
   "file_extension": ".py",
   "mimetype": "text/x-python",
   "name": "python",
   "nbconvert_exporter": "python",
   "pygments_lexer": "ipython3",
   "version": "3.8.8"
  }
 },
 "nbformat": 4,
 "nbformat_minor": 5
}
