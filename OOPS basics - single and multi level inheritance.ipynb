{
 "cells": [
  {
   "cell_type": "code",
   "execution_count": 23,
   "id": "3d878d9d",
   "metadata": {},
   "outputs": [],
   "source": [
    "# inheritance - single level inheritance "
   ]
  },
  {
   "cell_type": "code",
   "execution_count": 24,
   "id": "1284dc73",
   "metadata": {},
   "outputs": [],
   "source": [
    "class A:\n",
    "    def func1(self):\n",
    "        print(\"func1\")"
   ]
  },
  {
   "cell_type": "code",
   "execution_count": 25,
   "id": "c2d21062",
   "metadata": {},
   "outputs": [],
   "source": [
    "class B(A):\n",
    "    def func2(self):\n",
    "        print(\"func2\")"
   ]
  },
  {
   "cell_type": "code",
   "execution_count": 26,
   "id": "44c9c913",
   "metadata": {},
   "outputs": [
    {
     "name": "stdout",
     "output_type": "stream",
     "text": [
      "func1\n"
     ]
    }
   ],
   "source": [
    "x= A()\n",
    "x.func1()"
   ]
  },
  {
   "cell_type": "code",
   "execution_count": 30,
   "id": "4134b26f",
   "metadata": {},
   "outputs": [
    {
     "name": "stdout",
     "output_type": "stream",
     "text": [
      "func2\n",
      "func1\n"
     ]
    }
   ],
   "source": [
    "x1 = B()\n",
    "x1.func2()\n",
    "x1.func1()"
   ]
  },
  {
   "cell_type": "code",
   "execution_count": null,
   "id": "0a54445c",
   "metadata": {},
   "outputs": [],
   "source": [
    "# single level inheritance - ploymorphysm "
   ]
  },
  {
   "cell_type": "code",
   "execution_count": 1,
   "id": "98bd6369",
   "metadata": {},
   "outputs": [],
   "source": [
    "class Bird:\n",
    "  def intro(self):\n",
    "    print(\"There are many types of birds.\")\n",
    "      \n",
    "  def flight(self):\n",
    "    print(\"Most of the birds can fly but some cannot.\")\n",
    "    \n",
    "class sparrow(Bird):\n",
    "  def flight(self):\n",
    "    print(\"Sparrows can fly.\")"
   ]
  },
  {
   "cell_type": "code",
   "execution_count": 2,
   "id": "e92117e6",
   "metadata": {},
   "outputs": [
    {
     "name": "stdout",
     "output_type": "stream",
     "text": [
      "There are many types of birds.\n",
      "Most of the birds can fly but some cannot.\n"
     ]
    }
   ],
   "source": [
    "obj_bird = Bird()\n",
    "obj_spr = sparrow()\n",
    "\n",
    "obj_bird.intro()\n",
    "obj_bird.flight()"
   ]
  },
  {
   "cell_type": "code",
   "execution_count": 3,
   "id": "d9952b4c",
   "metadata": {},
   "outputs": [
    {
     "name": "stdout",
     "output_type": "stream",
     "text": [
      "There are many types of birds.\n",
      "Sparrows can fly.\n"
     ]
    }
   ],
   "source": [
    "obj_spr.intro()\n",
    "obj_spr.flight()"
   ]
  },
  {
   "cell_type": "code",
   "execution_count": 31,
   "id": "223d6500",
   "metadata": {},
   "outputs": [],
   "source": [
    "# in heritance - muti level"
   ]
  },
  {
   "cell_type": "code",
   "execution_count": 37,
   "id": "807e9eef",
   "metadata": {},
   "outputs": [],
   "source": [
    "class A:\n",
    "    def boys(self):\n",
    "        print(\"all boys are presents\")\n",
    "        "
   ]
  },
  {
   "cell_type": "code",
   "execution_count": 38,
   "id": "ffdd9d71",
   "metadata": {},
   "outputs": [],
   "source": [
    "class B(A):\n",
    "    def girls(self):\n",
    "        print(\"all girls are present\")"
   ]
  },
  {
   "cell_type": "code",
   "execution_count": 39,
   "id": "630ef69e",
   "metadata": {},
   "outputs": [],
   "source": [
    "class C(B):\n",
    "    def attend(self):\n",
    "        print(\"all are present\")"
   ]
  },
  {
   "cell_type": "code",
   "execution_count": 41,
   "id": "b2e96091",
   "metadata": {},
   "outputs": [
    {
     "name": "stdout",
     "output_type": "stream",
     "text": [
      "all boys are presents\n",
      "all girls are present\n",
      "all are present\n"
     ]
    }
   ],
   "source": [
    "z= C()\n",
    "z.boys()\n",
    "z.girls()\n",
    "z.attend()"
   ]
  },
  {
   "cell_type": "code",
   "execution_count": 42,
   "id": "aac453e2",
   "metadata": {},
   "outputs": [],
   "source": [
    "# in heritance - muti level- with polymorphism"
   ]
  },
  {
   "cell_type": "code",
   "execution_count": 43,
   "id": "e72cba74",
   "metadata": {},
   "outputs": [],
   "source": [
    "class A:\n",
    "    def boys(self):\n",
    "        print(\"all boys are presents\")\n",
    "        "
   ]
  },
  {
   "cell_type": "code",
   "execution_count": 44,
   "id": "6a159d9f",
   "metadata": {},
   "outputs": [],
   "source": [
    "class B(A):\n",
    "    def boys(self):\n",
    "        print(\"all girls are present\")"
   ]
  },
  {
   "cell_type": "code",
   "execution_count": 45,
   "id": "58da00c0",
   "metadata": {},
   "outputs": [],
   "source": [
    "class C(B):\n",
    "    def attend(self):\n",
    "        print(\"all are present\")"
   ]
  },
  {
   "cell_type": "code",
   "execution_count": 46,
   "id": "6c8d01d0",
   "metadata": {},
   "outputs": [
    {
     "name": "stdout",
     "output_type": "stream",
     "text": [
      "all girls are present\n",
      "all are present\n"
     ]
    }
   ],
   "source": [
    "z= C()\n",
    "z.boys()\n",
    "#z.girls()\n",
    "z.attend()"
   ]
  },
  {
   "cell_type": "code",
   "execution_count": null,
   "id": "5cc6ce8a",
   "metadata": {},
   "outputs": [],
   "source": [
    "# in heritance - muti level- with constructor"
   ]
  },
  {
   "cell_type": "code",
   "execution_count": 51,
   "id": "a3b20a8f",
   "metadata": {},
   "outputs": [],
   "source": [
    "class A:\n",
    "    \n",
    "    def __init__(self):\n",
    "        print(\"a in init\" )\n",
    "        \n",
    "    def boys(self):\n",
    "        print(\"all boys are presents\")\n",
    "        "
   ]
  },
  {
   "cell_type": "code",
   "execution_count": 52,
   "id": "dc06e0f6",
   "metadata": {},
   "outputs": [],
   "source": [
    "class B(A):\n",
    "    def boys(self):\n",
    "        print(\"all girls are present\")"
   ]
  },
  {
   "cell_type": "code",
   "execution_count": 53,
   "id": "5bff5f80",
   "metadata": {},
   "outputs": [],
   "source": [
    "class C(B):\n",
    "    def attend(self):\n",
    "        print(\"all are present\")"
   ]
  },
  {
   "cell_type": "code",
   "execution_count": 54,
   "id": "78524a9e",
   "metadata": {},
   "outputs": [
    {
     "name": "stdout",
     "output_type": "stream",
     "text": [
      "a in init\n"
     ]
    }
   ],
   "source": [
    "z=C()"
   ]
  },
  {
   "cell_type": "code",
   "execution_count": null,
   "id": "2a9de9ca",
   "metadata": {},
   "outputs": [],
   "source": [
    "# second case"
   ]
  },
  {
   "cell_type": "code",
   "execution_count": 56,
   "id": "00bf334b",
   "metadata": {},
   "outputs": [],
   "source": [
    "class A:\n",
    "    \n",
    "    def __init__(self):\n",
    "        print(\"a in init\" )\n",
    "        \n",
    "    def boys(self):\n",
    "        print(\"all boys are presents\")\n",
    "        "
   ]
  },
  {
   "cell_type": "code",
   "execution_count": 57,
   "id": "de88ab6c",
   "metadata": {},
   "outputs": [],
   "source": [
    "class B(A):\n",
    "    def __init__(self):\n",
    "        print(\"b in init\" )\n",
    "        \n",
    "    def boys(self):\n",
    "        print(\"all girls are present\")"
   ]
  },
  {
   "cell_type": "code",
   "execution_count": 58,
   "id": "ba149ed0",
   "metadata": {},
   "outputs": [],
   "source": [
    "class C(B):\n",
    "    def attend(self):\n",
    "        print(\"all are present\")"
   ]
  },
  {
   "cell_type": "code",
   "execution_count": 59,
   "id": "3efaa347",
   "metadata": {},
   "outputs": [
    {
     "name": "stdout",
     "output_type": "stream",
     "text": [
      "b in init\n"
     ]
    }
   ],
   "source": [
    "z=C()"
   ]
  },
  {
   "cell_type": "code",
   "execution_count": 60,
   "id": "5b61976e",
   "metadata": {},
   "outputs": [],
   "source": [
    "# third case"
   ]
  },
  {
   "cell_type": "code",
   "execution_count": 61,
   "id": "62eb573e",
   "metadata": {},
   "outputs": [],
   "source": [
    "class A:\n",
    "    \n",
    "    def __init__(self):\n",
    "        print(\"a in init\" )\n",
    "        \n",
    "    def boys(self):\n",
    "        print(\"all boys are presents\")\n",
    "        "
   ]
  },
  {
   "cell_type": "code",
   "execution_count": 62,
   "id": "c6b09dd5",
   "metadata": {},
   "outputs": [],
   "source": [
    "class B(A):\n",
    "    def __init__(self):\n",
    "        print(\"b in init\" )\n",
    "        \n",
    "    def boys(self):\n",
    "        print(\"all girls are present\")"
   ]
  },
  {
   "cell_type": "code",
   "execution_count": 63,
   "id": "a4051f55",
   "metadata": {},
   "outputs": [],
   "source": [
    "class C(B):\n",
    "    def __init__(self):\n",
    "        print(\"c in init\" )\n",
    "        \n",
    "    def attend(self):\n",
    "        print(\"all are present\")"
   ]
  },
  {
   "cell_type": "code",
   "execution_count": 64,
   "id": "4a670950",
   "metadata": {},
   "outputs": [
    {
     "name": "stdout",
     "output_type": "stream",
     "text": [
      "c in init\n"
     ]
    }
   ],
   "source": [
    "z=C()"
   ]
  },
  {
   "cell_type": "code",
   "execution_count": null,
   "id": "062a023e",
   "metadata": {},
   "outputs": [],
   "source": [
    "# multi inheritance - super() funtions to call inits of super class"
   ]
  },
  {
   "cell_type": "code",
   "execution_count": 65,
   "id": "3ff23bef",
   "metadata": {},
   "outputs": [],
   "source": [
    "class A:\n",
    "    \n",
    "    def __init__(self):\n",
    "        print(\"a in init\" )\n",
    "        \n",
    "    def boys(self):\n",
    "        print(\"all boys are presents\")"
   ]
  },
  {
   "cell_type": "code",
   "execution_count": 66,
   "id": "f4e5bcf8",
   "metadata": {},
   "outputs": [],
   "source": [
    "class B(A):\n",
    "    def __init__(self):\n",
    "        print(\"b in init\" )\n",
    "        \n",
    "    def boys(self):\n",
    "        print(\"all girls are present\")"
   ]
  },
  {
   "cell_type": "code",
   "execution_count": 75,
   "id": "aced4039",
   "metadata": {},
   "outputs": [],
   "source": [
    "class C(B):\n",
    "    def __init__(self):\n",
    "        super().__init__()\n",
    "        print(\"c in init\" )\n",
    "        super().boys()\n",
    "        \n",
    "    def attend(self):\n",
    "        print(\"all are present\")\n",
    "        "
   ]
  },
  {
   "cell_type": "code",
   "execution_count": 76,
   "id": "f4f8fd14",
   "metadata": {},
   "outputs": [
    {
     "name": "stdout",
     "output_type": "stream",
     "text": [
      "b in init\n",
      "c in init\n",
      "all girls are present\n"
     ]
    }
   ],
   "source": [
    "z=C()"
   ]
  },
  {
   "cell_type": "code",
   "execution_count": null,
   "id": "6108eb4b",
   "metadata": {},
   "outputs": [],
   "source": []
  },
  {
   "cell_type": "code",
   "execution_count": null,
   "id": "68a16188",
   "metadata": {},
   "outputs": [],
   "source": []
  },
  {
   "cell_type": "code",
   "execution_count": null,
   "id": "c481c011",
   "metadata": {},
   "outputs": [],
   "source": []
  },
  {
   "cell_type": "code",
   "execution_count": null,
   "id": "2bbccb9e",
   "metadata": {},
   "outputs": [],
   "source": []
  },
  {
   "cell_type": "code",
   "execution_count": null,
   "id": "97bbda59",
   "metadata": {},
   "outputs": [],
   "source": []
  },
  {
   "cell_type": "code",
   "execution_count": 20,
   "id": "fe99318e",
   "metadata": {},
   "outputs": [],
   "source": [
    "class Bird:\n",
    "  def intro(self):\n",
    "    print(\"There are many types of birds.\")\n",
    "      \n",
    "  def flight(self):\n",
    "    print(\"Most of the birds can fly but some cannot.\")\n",
    "    \n",
    "class sparrow(Bird):\n",
    "  def flight(self):\n",
    "    print(\"Sparrows can fly.\")"
   ]
  },
  {
   "cell_type": "code",
   "execution_count": 21,
   "id": "a334f45f",
   "metadata": {},
   "outputs": [
    {
     "name": "stdout",
     "output_type": "stream",
     "text": [
      "There are many types of birds.\n",
      "Most of the birds can fly but some cannot.\n"
     ]
    }
   ],
   "source": [
    "obj_bird = Bird()\n",
    "obj_spr = sparrow()\n",
    "\n",
    "obj_bird.intro()\n",
    "obj_bird.flight()"
   ]
  },
  {
   "cell_type": "code",
   "execution_count": 22,
   "id": "af145472",
   "metadata": {},
   "outputs": [
    {
     "name": "stdout",
     "output_type": "stream",
     "text": [
      "There are many types of birds.\n",
      "Sparrows can fly.\n"
     ]
    }
   ],
   "source": [
    "obj_spr.intro()\n",
    "obj_spr.flight()"
   ]
  },
  {
   "cell_type": "code",
   "execution_count": null,
   "id": "f502df35",
   "metadata": {},
   "outputs": [],
   "source": []
  }
 ],
 "metadata": {
  "kernelspec": {
   "display_name": "Python 3",
   "language": "python",
   "name": "python3"
  },
  "language_info": {
   "codemirror_mode": {
    "name": "ipython",
    "version": 3
   },
   "file_extension": ".py",
   "mimetype": "text/x-python",
   "name": "python",
   "nbconvert_exporter": "python",
   "pygments_lexer": "ipython3",
   "version": "3.8.8"
  }
 },
 "nbformat": 4,
 "nbformat_minor": 5
}
